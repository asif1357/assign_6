{
 "cells": [
  {
   "cell_type": "markdown",
   "id": "3bdbcea9",
   "metadata": {},
   "source": [
    "# Assignment 6\n",
    "1. An escape character is a backslash \\ followed by the character you want to insert.\n",
    "2. new line and tab\n",
    "3. \\\\\n",
    "4. If string contains single quote then it should be enclosed within double or triple qoutes\n",
    "5. end=\"\"\n",
    "6. 'e' , 'Hello, , 'Hello, , 'lo,world!'\n",
    "7. 'HELLO', True , False\n",
    "8. ['Remember,', 'remember,'the', 'fifth', 'of', 'july']\n",
    "9. There-can-only-one\n",
    "10. ljust(), rjust(), center() \n",
    "11. lstrip() and rstrip()"
   ]
  }
 ],
 "metadata": {
  "kernelspec": {
   "display_name": "Python 3 (ipykernel)",
   "language": "python",
   "name": "python3"
  },
  "language_info": {
   "codemirror_mode": {
    "name": "ipython",
    "version": 3
   },
   "file_extension": ".py",
   "mimetype": "text/x-python",
   "name": "python",
   "nbconvert_exporter": "python",
   "pygments_lexer": "ipython3",
   "version": "3.9.12"
  }
 },
 "nbformat": 4,
 "nbformat_minor": 5
}
